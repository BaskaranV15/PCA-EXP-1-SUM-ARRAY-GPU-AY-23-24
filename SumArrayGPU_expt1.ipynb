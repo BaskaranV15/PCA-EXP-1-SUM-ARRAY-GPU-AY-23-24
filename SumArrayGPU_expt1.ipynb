{
  "nbformat": 4,
  "nbformat_minor": 0,
  "metadata": {
    "colab": {
      "provenance": [],
      "gpuType": "T4",
      "authorship_tag": "ABX9TyORTLLibChmd4ficHhWzEs7",
      "include_colab_link": true
    },
    "kernelspec": {
      "name": "python3",
      "display_name": "Python 3"
    },
    "language_info": {
      "name": "python"
    },
    "accelerator": "GPU"
  },
  "cells": [
    {
      "cell_type": "markdown",
      "metadata": {
        "id": "view-in-github",
        "colab_type": "text"
      },
      "source": [
        "<a href=\"https://colab.research.google.com/github/BaskaranV15/PCA-EXP-1-SUM-ARRAY-GPU-AY-23-24/blob/main/SumArrayGPU_expt1.ipynb\" target=\"_parent\"><img src=\"https://colab.research.google.com/assets/colab-badge.svg\" alt=\"Open In Colab\"/></a>"
      ]
    },
    {
      "cell_type": "code",
      "execution_count": null,
      "metadata": {
        "colab": {
          "base_uri": "https://localhost:8080/"
        },
        "id": "UfvuRp1YaHFr",
        "outputId": "f09f8eb5-969f-4f2a-801c-afa6ed0e5c5b"
      },
      "outputs": [
        {
          "output_type": "stream",
          "name": "stdout",
          "text": [
            "Collecting git+https://github.com/andreinechaev/nvcc4jupyter.git\n",
            "  Cloning https://github.com/andreinechaev/nvcc4jupyter.git to /tmp/pip-req-build-g2lf205g\n",
            "  Running command git clone --filter=blob:none --quiet https://github.com/andreinechaev/nvcc4jupyter.git /tmp/pip-req-build-g2lf205g\n",
            "  Resolved https://github.com/andreinechaev/nvcc4jupyter.git to commit 801584cceb559adc54e828ebe9b385c5f53fe70f\n",
            "  Installing build dependencies ... \u001b[?25l\u001b[?25hdone\n",
            "  Getting requirements to build wheel ... \u001b[?25l\u001b[?25hdone\n",
            "  Preparing metadata (pyproject.toml) ... \u001b[?25l\u001b[?25hdone\n",
            "Building wheels for collected packages: nvcc4jupyter\n",
            "  Building wheel for nvcc4jupyter (pyproject.toml) ... \u001b[?25l\u001b[?25hdone\n",
            "  Created wheel for nvcc4jupyter: filename=nvcc4jupyter-1.2.1-py3-none-any.whl size=10743 sha256=3a570d3ab74e9051a615aa78d54722c78a69a0c83a1d407fccde14c37a30e96c\n",
            "  Stored in directory: /tmp/pip-ephem-wheel-cache-kmuq2pse/wheels/a8/b9/18/23f8ef71ceb0f63297dd1903aedd067e6243a68ea756d6feea\n",
            "Successfully built nvcc4jupyter\n",
            "Installing collected packages: nvcc4jupyter\n",
            "Successfully installed nvcc4jupyter-1.2.1\n",
            "Detected platform \"Colab\". Running its setup...\n",
            "Source files will be saved in \"/tmp/tmpq0g2s7d_\".\n"
          ]
        }
      ],
      "source": [
        "!pip install git+https://github.com/andreinechaev/nvcc4jupyter.git\n",
        "%load_ext nvcc4jupyter"
      ]
    },
    {
      "cell_type": "code",
      "source": [
        "%%cuda\n",
        "#include <cuda_runtime.h>\n",
        "#include <stdio.h>\n",
        "#include <sys/time.h>\n",
        "\n",
        "#ifndef _COMMON_H\n",
        "#define _COMMON_H\n",
        "\n",
        "#define CHECK(call)                                                            \\\n",
        "{                                                                              \\\n",
        "    const cudaError_t error = call;                                            \\\n",
        "    if (error != cudaSuccess)                                                  \\\n",
        "    {                                                                          \\\n",
        "        fprintf(stderr, \"Error: %s:%d, \", __FILE__, __LINE__);                 \\\n",
        "        fprintf(stderr, \"code: %d, reason: %s\\n\", error,                       \\\n",
        "                cudaGetErrorString(error));                                    \\\n",
        "        exit(1);                                                               \\\n",
        "    }                                                                          \\\n",
        "}\n",
        "\n",
        "#define CHECK_CUBLAS(call)                                                     \\\n",
        "{                                                                              \\\n",
        "    cublasStatus_t err;                                                        \\\n",
        "    if ((err = (call)) != CUBLAS_STATUS_SUCCESS)                               \\\n",
        "    {                                                                          \\\n",
        "        fprintf(stderr, \"Got CUBLAS error %d at %s:%d\\n\", err, __FILE__,       \\\n",
        "                __LINE__);                                                     \\\n",
        "        exit(1);                                                               \\\n",
        "    }                                                                          \\\n",
        "}\n",
        "\n",
        "#define CHECK_CURAND(call)                                                     \\\n",
        "{                                                                              \\\n",
        "    curandStatus_t err;                                                        \\\n",
        "    if ((err = (call)) != CURAND_STATUS_SUCCESS)                               \\\n",
        "    {                                                                          \\\n",
        "        fprintf(stderr, \"Got CURAND error %d at %s:%d\\n\", err, __FILE__,       \\\n",
        "                __LINE__);                                                     \\\n",
        "        exit(1);                                                               \\\n",
        "    }                                                                          \\\n",
        "}\n",
        "\n",
        "#define CHECK_CUFFT(call)                                                      \\\n",
        "{                                                                              \\\n",
        "    cufftResult err;                                                           \\\n",
        "    if ( (err = (call)) != CUFFT_SUCCESS)                                      \\\n",
        "    {                                                                          \\\n",
        "        fprintf(stderr, \"Got CUFFT error %d at %s:%d\\n\", err, __FILE__,        \\\n",
        "                __LINE__);                                                     \\\n",
        "        exit(1);                                                               \\\n",
        "    }                                                                          \\\n",
        "}\n",
        "\n",
        "#define CHECK_CUSPARSE(call)                                                   \\\n",
        "{                                                                              \\\n",
        "    cusparseStatus_t err;                                                      \\\n",
        "    if ((err = (call)) != CUSPARSE_STATUS_SUCCESS)                             \\\n",
        "    {                                                                          \\\n",
        "        fprintf(stderr, \"Got error %d at %s:%d\\n\", err, __FILE__, __LINE__);   \\\n",
        "        cudaError_t cuda_err = cudaGetLastError();                             \\\n",
        "        if (cuda_err != cudaSuccess)                                           \\\n",
        "        {                                                                      \\\n",
        "            fprintf(stderr, \"  CUDA error \\\"%s\\\" also detected\\n\",             \\\n",
        "                    cudaGetErrorString(cuda_err));                             \\\n",
        "        }                                                                      \\\n",
        "        exit(1);                                                               \\\n",
        "    }                                                                          \\\n",
        "}\n",
        "\n",
        "inline double seconds()\n",
        "{\n",
        "    struct timeval tp;\n",
        "    struct timezone tzp;\n",
        "    int i = gettimeofday(&tp, &tzp);\n",
        "    return ((double)tp.tv_sec + (double)tp.tv_usec * 1.e-6);\n",
        "}\n",
        "\n",
        "#endif // _COMMON_H\n",
        "\n",
        "\n",
        "void checkResult(float *hostRef, float *gpuRef, const int N)\n",
        "{\n",
        "    double epsilon = 1.0E-8;\n",
        "    bool match = 1;\n",
        "\n",
        "    for (int i = 0; i < N; i++)\n",
        "    {\n",
        "        if (abs(hostRef[i] - gpuRef[i]) > epsilon)\n",
        "        {\n",
        "            match = 0;\n",
        "            printf(\"Arrays do not match!\\n\");\n",
        "            printf(\"host %5.2f gpu %5.2f at current %d\\n\", hostRef[i],\n",
        "                   gpuRef[i], i);\n",
        "            break;\n",
        "        }\n",
        "    }\n",
        "\n",
        "    if (match) printf(\"Arrays match.\\n\\n\");\n",
        "\n",
        "    return;\n",
        "}\n",
        "\n",
        "void initialData(float *ip, int size)\n",
        "{\n",
        "    // generate different seed for random number\n",
        "    time_t t;\n",
        "    srand((unsigned) time(&t));\n",
        "\n",
        "    for (int i = 0; i < size; i++)\n",
        "    {\n",
        "        ip[i] = (float)( rand() & 0xFF ) / 10.0f;\n",
        "    }\n",
        "\n",
        "    return;\n",
        "}\n",
        "\n",
        "void sumArraysOnHost(float *A, float *B, float *C, const int N)\n",
        "{\n",
        "    for (int idx = 0; idx < N; idx++)\n",
        "    {\n",
        "        C[idx] = A[idx] + B[idx];\n",
        "    }\n",
        "}\n",
        "__global__ void sumArraysOnGPU(float *A, float *B, float *C, const int N)\n",
        "{\n",
        "    int i = blockIdx.x * blockDim.x + threadIdx.x;\n",
        "\n",
        "    if (i < N) C[i] = A[i] + B[i];\n",
        "}\n",
        "\n",
        "int main(int argc, char **argv)\n",
        "{\n",
        "    printf(\"%s Starting...\\n\", argv[0]);\n",
        "\n",
        "    // set up device\n",
        "    int dev = 0;\n",
        "    cudaDeviceProp deviceProp;\n",
        "    CHECK(cudaGetDeviceProperties(&deviceProp, dev));\n",
        "    printf(\"Using Device %d: %s\\n\", dev, deviceProp.name);\n",
        "    CHECK(cudaSetDevice(dev));\n",
        "\n",
        "    // set up data size of vectors\n",
        "    int nElem = 1 << 24;\n",
        "    printf(\"Vector size %d\\n\", nElem);\n",
        "\n",
        "    // malloc host memory\n",
        "    size_t nBytes = nElem * sizeof(float);\n",
        "\n",
        "    float *h_A, *h_B, *hostRef, *gpuRef;\n",
        "    h_A     = (float *)malloc(nBytes);\n",
        "    h_B     = (float *)malloc(nBytes);\n",
        "    hostRef = (float *)malloc(nBytes);\n",
        "    gpuRef  = (float *)malloc(nBytes);\n",
        "\n",
        "    double iStart, iElaps;\n",
        "\n",
        "    // initialize data at host side\n",
        "    iStart = seconds();\n",
        "    initialData(h_A, nElem);\n",
        "    initialData(h_B, nElem);\n",
        "    iElaps = seconds() - iStart;\n",
        "    printf(\"initialData Time elapsed %f sec\\n\", iElaps);\n",
        "    memset(hostRef, 0, nBytes);\n",
        "    memset(gpuRef,  0, nBytes);\n",
        "\n",
        "    // add vector at host side for result checks\n",
        "    iStart = seconds();\n",
        "    sumArraysOnHost(h_A, h_B, hostRef, nElem);\n",
        "    iElaps = seconds() - iStart;\n",
        "    printf(\"sumArraysOnHost Time elapsed %f sec\\n\", iElaps);\n",
        "\n",
        "    // malloc device global memory\n",
        "    float *d_A, *d_B, *d_C;\n",
        "    CHECK(cudaMalloc((float**)&d_A, nBytes));\n",
        "    CHECK(cudaMalloc((float**)&d_B, nBytes));\n",
        "    CHECK(cudaMalloc((float**)&d_C, nBytes));\n",
        "\n",
        "    // transfer data from host to device\n",
        "    CHECK(cudaMemcpy(d_A, h_A, nBytes, cudaMemcpyHostToDevice));\n",
        "    CHECK(cudaMemcpy(d_B, h_B, nBytes, cudaMemcpyHostToDevice));\n",
        "    CHECK(cudaMemcpy(d_C, gpuRef, nBytes, cudaMemcpyHostToDevice));\n",
        "\n",
        "    // invoke kernel at host side\n",
        "    int iLen = 512;\n",
        "    dim3 block (iLen);\n",
        "    dim3 grid  ((nElem + block.x - 1) / block.x);\n",
        "\n",
        "    iStart = seconds();\n",
        "    sumArraysOnGPU<<<grid, block>>>(d_A, d_B, d_C, nElem);\n",
        "    CHECK(cudaDeviceSynchronize());\n",
        "    iElaps = seconds() - iStart;\n",
        "    printf(\"sumArraysOnGPU <<<  %d, %d  >>>  Time elapsed %f sec\\n\", grid.x,\n",
        "           block.x, iElaps);\n",
        "\n",
        "    // check kernel error\n",
        "    CHECK(cudaGetLastError()) ;\n",
        "\n",
        "    // copy kernel result back to host side\n",
        "    CHECK(cudaMemcpy(gpuRef, d_C, nBytes, cudaMemcpyDeviceToHost));\n",
        "\n",
        "    // check device results\n",
        "    checkResult(hostRef, gpuRef, nElem);\n",
        "\n",
        "    // free device global memory\n",
        "    CHECK(cudaFree(d_A));\n",
        "    CHECK(cudaFree(d_B));\n",
        "    CHECK(cudaFree(d_C));\n",
        "\n",
        "    // free host memory\n",
        "    free(h_A);\n",
        "    free(h_B);\n",
        "    free(hostRef);\n",
        "    free(gpuRef);\n",
        "\n",
        "    return(0);\n",
        "}"
      ],
      "metadata": {
        "colab": {
          "base_uri": "https://localhost:8080/"
        },
        "id": "lR4yz_62aOf-",
        "outputId": "1e6d9c71-bebd-46ec-d9ba-6fa784e77951"
      },
      "execution_count": null,
      "outputs": [
        {
          "output_type": "stream",
          "name": "stdout",
          "text": [
            "/tmp/tmpq0g2s7d_/023613f3-be87-4796-aab4-ca7efa59293b/cuda_exec.out Starting...\n",
            "Using Device 0: Tesla T4\n",
            "Vector size 16777216\n",
            "initialData Time elapsed 0.661536 sec\n",
            "sumArraysOnHost Time elapsed 0.053014 sec\n",
            "sumArraysOnGPU <<<  32768, 512  >>>  Time elapsed 0.000998 sec\n",
            "Arrays match.\n",
            "\n",
            "\n"
          ]
        }
      ]
    },
    {
      "cell_type": "code",
      "source": [],
      "metadata": {
        "id": "hcFg6pdXafMk"
      },
      "execution_count": null,
      "outputs": []
    },
    {
      "cell_type": "code",
      "source": [],
      "metadata": {
        "colab": {
          "base_uri": "https://localhost:8080/"
        },
        "id": "arGXYY0QbinA",
        "outputId": "429f6685-f767-4e92-ed19-43d430ec19ee"
      },
      "execution_count": null,
      "outputs": [
        {
          "output_type": "stream",
          "name": "stdout",
          "text": [
            "GPU Type:  [PhysicalDevice(name='/physical_device:GPU:0', device_type='GPU')]\n"
          ]
        }
      ]
    },
    {
      "cell_type": "code",
      "source": [
        "!nvidia-smi"
      ],
      "metadata": {
        "colab": {
          "base_uri": "https://localhost:8080/"
        },
        "id": "kdTPT-apbsTb",
        "outputId": "dac40333-89b2-4bd0-ac0e-76fff1173f2a"
      },
      "execution_count": null,
      "outputs": [
        {
          "output_type": "stream",
          "name": "stdout",
          "text": [
            "Fri Aug 23 04:12:55 2024       \n",
            "+---------------------------------------------------------------------------------------+\n",
            "| NVIDIA-SMI 535.104.05             Driver Version: 535.104.05   CUDA Version: 12.2     |\n",
            "|-----------------------------------------+----------------------+----------------------+\n",
            "| GPU  Name                 Persistence-M | Bus-Id        Disp.A | Volatile Uncorr. ECC |\n",
            "| Fan  Temp   Perf          Pwr:Usage/Cap |         Memory-Usage | GPU-Util  Compute M. |\n",
            "|                                         |                      |               MIG M. |\n",
            "|=========================================+======================+======================|\n",
            "|   0  Tesla T4                       Off | 00000000:00:04.0 Off |                    0 |\n",
            "| N/A   41C    P8              10W /  70W |      3MiB / 15360MiB |      0%      Default |\n",
            "|                                         |                      |                  N/A |\n",
            "+-----------------------------------------+----------------------+----------------------+\n",
            "                                                                                         \n",
            "+---------------------------------------------------------------------------------------+\n",
            "| Processes:                                                                            |\n",
            "|  GPU   GI   CI        PID   Type   Process name                            GPU Memory |\n",
            "|        ID   ID                                                             Usage      |\n",
            "|=======================================================================================|\n",
            "|  No running processes found                                                           |\n",
            "+---------------------------------------------------------------------------------------+\n"
          ]
        }
      ]
    },
    {
      "cell_type": "code",
      "source": [],
      "metadata": {
        "id": "WsgXILSfbjZ9"
      },
      "execution_count": null,
      "outputs": []
    }
  ]
}